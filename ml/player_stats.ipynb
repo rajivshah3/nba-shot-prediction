{
 "cells": [
  {
   "cell_type": "code",
   "execution_count": 1,
   "metadata": {},
   "outputs": [],
   "source": [
    "import pandas as pd\n",
    "from nba_api.stats.endpoints import commonplayerinfo, playerprofilev2\n",
    "from time import sleep"
   ]
  },
  {
   "cell_type": "code",
   "execution_count": 21,
   "metadata": {},
   "outputs": [],
   "source": [
    "TEAMS_CSV_DIR = \"./data/csv/teams\"\n",
    "\n",
    "heights_not_in_api = {\n",
    "    # Tyler Hansbrough\n",
    "    201946: \"6-9\"\n",
    "}\n",
    "\n",
    "def get_height_for_player(player_row):\n",
    "    id = player_row[\"playerid\"]\n",
    "    # NBA API will block the IP if we request too quickly\n",
    "    # We need to wait 600ms between requests\n",
    "    # https://github.com/swar/nba_api/issues/176#issuecomment-771991604\n",
    "    sleep(0.6)\n",
    "    player_info = commonplayerinfo.CommonPlayerInfo(player_id=id)\n",
    "    height_str = player_info.get_normalized_dict()[\"CommonPlayerInfo\"][0][\"HEIGHT\"]\n",
    "    if height_str.strip() == \"\":\n",
    "        if id in heights_not_in_api:\n",
    "            height_str = heights_not_in_api[id]\n",
    "        else:\n",
    "            raise ValueError(f\"No height info for player {id}\")\n",
    "    height_ft, height_in = height_str.split(\"-\")\n",
    "    height = int(height_ft) * 12 + int(height_in)\n",
    "    return height\n",
    "\n",
    "def get_stats_for_player(player_row: pd.DataFrame):\n",
    "    id = player_row[\"playerid\"]\n",
    "    # NBA API will block the IP if we request too quickly\n",
    "    # We need to wait 600ms between requests\n",
    "    # https://github.com/swar/nba_api/issues/176#issuecomment-771991604\n",
    "    sleep(0.6)\n",
    "    all_seasons = playerprofilev2.PlayerProfileV2(player_id=id, per_mode36=\"PerGame\").get_normalized_dict()[\"SeasonTotalsRegularSeason\"]\n",
    "    this_season = list(filter(lambda season_stats: season_stats['SEASON_ID'] == \"2016-17\", all_seasons))[0]\n",
    "    return (this_season[\"PTS\"], this_season[\"AST\"], this_season[\"REB\"])\n",
    "\n",
    "\n",
    "def get_stats_for_team(team_df: pd.DataFrame):\n",
    "    if \"height\" not in team_df.columns:\n",
    "        team_df[\"height\"] = team_df.apply(get_height_for_player, axis=\"columns\")\n",
    "    team_df[\"points\"], team_df[\"assists\"], team_df[\"rebounds\"] = team_df.apply(get_stats_for_player, axis=\"columns\", result_type=\"expand\")\n",
    "    return team_df"
   ]
  },
  {
   "cell_type": "code",
   "execution_count": 22,
   "metadata": {},
   "outputs": [
    {
     "name": "stdout",
     "output_type": "stream",
     "text": [
      "./data/csv/teams/PHI.csv\n"
     ]
    },
    {
     "ename": "IndexError",
     "evalue": "list index out of range",
     "output_type": "error",
     "traceback": [
      "\u001b[0;31m---------------------------------------------------------------------------\u001b[0m",
      "\u001b[0;31mIndexError\u001b[0m                                Traceback (most recent call last)",
      "Cell \u001b[0;32mIn[22], line 4\u001b[0m\n\u001b[1;32m      2\u001b[0m \u001b[39mprint\u001b[39m(path)\n\u001b[1;32m      3\u001b[0m team_df \u001b[39m=\u001b[39m pd\u001b[39m.\u001b[39mread_csv(path)\n\u001b[0;32m----> 4\u001b[0m team_df \u001b[39m=\u001b[39m get_stats_for_team(team_df)\n\u001b[1;32m      5\u001b[0m team_df\n",
      "Cell \u001b[0;32mIn[21], line 39\u001b[0m, in \u001b[0;36mget_stats_for_team\u001b[0;34m(team_df)\u001b[0m\n\u001b[1;32m     37\u001b[0m \u001b[39mif\u001b[39;00m \u001b[39m\"\u001b[39m\u001b[39mheight\u001b[39m\u001b[39m\"\u001b[39m \u001b[39mnot\u001b[39;00m \u001b[39min\u001b[39;00m team_df\u001b[39m.\u001b[39mcolumns:\n\u001b[1;32m     38\u001b[0m     team_df[\u001b[39m\"\u001b[39m\u001b[39mheight\u001b[39m\u001b[39m\"\u001b[39m] \u001b[39m=\u001b[39m team_df\u001b[39m.\u001b[39mapply(get_height_for_player, axis\u001b[39m=\u001b[39m\u001b[39m\"\u001b[39m\u001b[39mcolumns\u001b[39m\u001b[39m\"\u001b[39m)\n\u001b[0;32m---> 39\u001b[0m team_df[\u001b[39m\"\u001b[39m\u001b[39mpoints\u001b[39m\u001b[39m\"\u001b[39m], team_df[\u001b[39m\"\u001b[39m\u001b[39massists\u001b[39m\u001b[39m\"\u001b[39m], team_df[\u001b[39m\"\u001b[39m\u001b[39mrebounds\u001b[39m\u001b[39m\"\u001b[39m] \u001b[39m=\u001b[39m team_df\u001b[39m.\u001b[39;49mapply(get_stats_for_player, axis\u001b[39m=\u001b[39;49m\u001b[39m\"\u001b[39;49m\u001b[39mcolumns\u001b[39;49m\u001b[39m\"\u001b[39;49m, result_type\u001b[39m=\u001b[39;49m\u001b[39m\"\u001b[39;49m\u001b[39mexpand\u001b[39;49m\u001b[39m\"\u001b[39;49m)\n\u001b[1;32m     40\u001b[0m \u001b[39mreturn\u001b[39;00m team_df\n",
      "File \u001b[0;32m~/nba-shot-prediction/venv/lib/python3.10/site-packages/pandas/core/frame.py:9568\u001b[0m, in \u001b[0;36mDataFrame.apply\u001b[0;34m(self, func, axis, raw, result_type, args, **kwargs)\u001b[0m\n\u001b[1;32m   9557\u001b[0m \u001b[39mfrom\u001b[39;00m \u001b[39mpandas\u001b[39;00m\u001b[39m.\u001b[39;00m\u001b[39mcore\u001b[39;00m\u001b[39m.\u001b[39;00m\u001b[39mapply\u001b[39;00m \u001b[39mimport\u001b[39;00m frame_apply\n\u001b[1;32m   9559\u001b[0m op \u001b[39m=\u001b[39m frame_apply(\n\u001b[1;32m   9560\u001b[0m     \u001b[39mself\u001b[39m,\n\u001b[1;32m   9561\u001b[0m     func\u001b[39m=\u001b[39mfunc,\n\u001b[0;32m   (...)\u001b[0m\n\u001b[1;32m   9566\u001b[0m     kwargs\u001b[39m=\u001b[39mkwargs,\n\u001b[1;32m   9567\u001b[0m )\n\u001b[0;32m-> 9568\u001b[0m \u001b[39mreturn\u001b[39;00m op\u001b[39m.\u001b[39;49mapply()\u001b[39m.\u001b[39m__finalize__(\u001b[39mself\u001b[39m, method\u001b[39m=\u001b[39m\u001b[39m\"\u001b[39m\u001b[39mapply\u001b[39m\u001b[39m\"\u001b[39m)\n",
      "File \u001b[0;32m~/nba-shot-prediction/venv/lib/python3.10/site-packages/pandas/core/apply.py:764\u001b[0m, in \u001b[0;36mFrameApply.apply\u001b[0;34m(self)\u001b[0m\n\u001b[1;32m    761\u001b[0m \u001b[39melif\u001b[39;00m \u001b[39mself\u001b[39m\u001b[39m.\u001b[39mraw:\n\u001b[1;32m    762\u001b[0m     \u001b[39mreturn\u001b[39;00m \u001b[39mself\u001b[39m\u001b[39m.\u001b[39mapply_raw()\n\u001b[0;32m--> 764\u001b[0m \u001b[39mreturn\u001b[39;00m \u001b[39mself\u001b[39;49m\u001b[39m.\u001b[39;49mapply_standard()\n",
      "File \u001b[0;32m~/nba-shot-prediction/venv/lib/python3.10/site-packages/pandas/core/apply.py:891\u001b[0m, in \u001b[0;36mFrameApply.apply_standard\u001b[0;34m(self)\u001b[0m\n\u001b[1;32m    890\u001b[0m \u001b[39mdef\u001b[39;00m \u001b[39mapply_standard\u001b[39m(\u001b[39mself\u001b[39m):\n\u001b[0;32m--> 891\u001b[0m     results, res_index \u001b[39m=\u001b[39m \u001b[39mself\u001b[39;49m\u001b[39m.\u001b[39;49mapply_series_generator()\n\u001b[1;32m    893\u001b[0m     \u001b[39m# wrap results\u001b[39;00m\n\u001b[1;32m    894\u001b[0m     \u001b[39mreturn\u001b[39;00m \u001b[39mself\u001b[39m\u001b[39m.\u001b[39mwrap_results(results, res_index)\n",
      "File \u001b[0;32m~/nba-shot-prediction/venv/lib/python3.10/site-packages/pandas/core/apply.py:907\u001b[0m, in \u001b[0;36mFrameApply.apply_series_generator\u001b[0;34m(self)\u001b[0m\n\u001b[1;32m    904\u001b[0m \u001b[39mwith\u001b[39;00m option_context(\u001b[39m\"\u001b[39m\u001b[39mmode.chained_assignment\u001b[39m\u001b[39m\"\u001b[39m, \u001b[39mNone\u001b[39;00m):\n\u001b[1;32m    905\u001b[0m     \u001b[39mfor\u001b[39;00m i, v \u001b[39min\u001b[39;00m \u001b[39menumerate\u001b[39m(series_gen):\n\u001b[1;32m    906\u001b[0m         \u001b[39m# ignore SettingWithCopy here in case the user mutates\u001b[39;00m\n\u001b[0;32m--> 907\u001b[0m         results[i] \u001b[39m=\u001b[39m \u001b[39mself\u001b[39;49m\u001b[39m.\u001b[39;49mf(v)\n\u001b[1;32m    908\u001b[0m         \u001b[39mif\u001b[39;00m \u001b[39misinstance\u001b[39m(results[i], ABCSeries):\n\u001b[1;32m    909\u001b[0m             \u001b[39m# If we have a view on v, we need to make a copy because\u001b[39;00m\n\u001b[1;32m    910\u001b[0m             \u001b[39m#  series_generator will swap out the underlying data\u001b[39;00m\n\u001b[1;32m    911\u001b[0m             results[i] \u001b[39m=\u001b[39m results[i]\u001b[39m.\u001b[39mcopy(deep\u001b[39m=\u001b[39m\u001b[39mFalse\u001b[39;00m)\n",
      "Cell \u001b[0;32mIn[21], line 32\u001b[0m, in \u001b[0;36mget_stats_for_player\u001b[0;34m(player_row)\u001b[0m\n\u001b[1;32m     30\u001b[0m sleep(\u001b[39m0.6\u001b[39m)\n\u001b[1;32m     31\u001b[0m all_seasons \u001b[39m=\u001b[39m playerprofilev2\u001b[39m.\u001b[39mPlayerProfileV2(player_id\u001b[39m=\u001b[39m\u001b[39mid\u001b[39m, per_mode36\u001b[39m=\u001b[39m\u001b[39m\"\u001b[39m\u001b[39mPerGame\u001b[39m\u001b[39m\"\u001b[39m)\u001b[39m.\u001b[39mget_normalized_dict()[\u001b[39m\"\u001b[39m\u001b[39mSeasonTotalsRegularSeason\u001b[39m\u001b[39m\"\u001b[39m]\n\u001b[0;32m---> 32\u001b[0m this_season \u001b[39m=\u001b[39m \u001b[39mlist\u001b[39;49m(\u001b[39mfilter\u001b[39;49m(\u001b[39mlambda\u001b[39;49;00m season_stats: season_stats[\u001b[39m'\u001b[39;49m\u001b[39mSEASON_ID\u001b[39;49m\u001b[39m'\u001b[39;49m] \u001b[39m==\u001b[39;49m \u001b[39m\"\u001b[39;49m\u001b[39m2016-17\u001b[39;49m\u001b[39m\"\u001b[39;49m, all_seasons))[\u001b[39m0\u001b[39;49m]\n\u001b[1;32m     33\u001b[0m \u001b[39mreturn\u001b[39;00m (this_season[\u001b[39m\"\u001b[39m\u001b[39mPTS\u001b[39m\u001b[39m\"\u001b[39m], this_season[\u001b[39m\"\u001b[39m\u001b[39mAST\u001b[39m\u001b[39m\"\u001b[39m], this_season[\u001b[39m\"\u001b[39m\u001b[39mREB\u001b[39m\u001b[39m\"\u001b[39m])\n",
      "\u001b[0;31mIndexError\u001b[0m: list index out of range"
     ]
    }
   ],
   "source": [
    "path = f\"{TEAMS_CSV_DIR}/PHI.csv\"\n",
    "print(path)\n",
    "team_df = pd.read_csv(path)\n",
    "team_df = get_stats_for_team(team_df)\n",
    "team_df"
   ]
  }
 ],
 "metadata": {
  "kernelspec": {
   "display_name": ".env",
   "language": "python",
   "name": "python3"
  },
  "language_info": {
   "codemirror_mode": {
    "name": "ipython",
    "version": 3
   },
   "file_extension": ".py",
   "mimetype": "text/x-python",
   "name": "python",
   "nbconvert_exporter": "python",
   "pygments_lexer": "ipython3",
   "version": "3.10.10"
  },
  "orig_nbformat": 4,
  "vscode": {
   "interpreter": {
    "hash": "92489e8426451bfe31496af9d902e46b3f5624f06599763fc962e93a82b244f6"
   }
  }
 },
 "nbformat": 4,
 "nbformat_minor": 2
}
