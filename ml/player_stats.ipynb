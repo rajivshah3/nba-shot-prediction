{
 "cells": [
  {
   "cell_type": "code",
   "execution_count": 13,
   "metadata": {},
   "outputs": [],
   "source": [
    "import pandas as pd\n",
    "import json\n",
    "import simdjson\n",
    "import os\n",
    "from nba_api.stats.endpoints import playbyplayv2, commonplayerinfo\n",
    "from time import sleep"
   ]
  },
  {
   "cell_type": "code",
   "execution_count": 14,
   "metadata": {},
   "outputs": [],
   "source": [
    "TEAMS_CSV_DIR = \"./data/csv/teams\"\n",
    "\n",
    "heights_not_in_api = {\n",
    "    # Tyler Hansbrough\n",
    "    201946: \"6-9\"\n",
    "}\n",
    "\n",
    "def get_height_for_player(player_row):\n",
    "    id = player_row[\"playerid\"]\n",
    "    # NBA API will block the IP if we request too quickly\n",
    "    # We need to wait 600ms between requests\n",
    "    # https://github.com/swar/nba_api/issues/176#issuecomment-771991604\n",
    "    sleep(0.6)\n",
    "    player_info = commonplayerinfo.CommonPlayerInfo(player_id=id)\n",
    "    height_str = player_info.get_normalized_dict()[\"CommonPlayerInfo\"][0][\"HEIGHT\"]\n",
    "    if height_str.strip() == \"\":\n",
    "        if id in heights_not_in_api:\n",
    "            height_str = heights_not_in_api[id]\n",
    "        else:\n",
    "            raise ValueError(f\"No height info for player {id}\")\n",
    "    height_ft, height_in = height_str.split(\"-\")\n",
    "    height = int(height_ft) * 12 + int(height_in)\n",
    "    return height\n",
    "\n",
    "def get_stats_for_team(team_df: pd.DataFrame):\n",
    "    if \"height\" not in team_df.columns:\n",
    "        team_df[\"height\"] = team_df.apply(get_height_for_player, axis=\"columns\")\n",
    "    return team_df"
   ]
  },
  {
   "cell_type": "code",
   "execution_count": 15,
   "metadata": {},
   "outputs": [
    {
     "name": "stdout",
     "output_type": "stream",
     "text": [
      "./data/csv/teams/PHI.csv\n"
     ]
    }
   ],
   "source": [
    "path = f\"{TEAMS_CSV_DIR}/PHI.csv\"\n",
    "print(path)\n",
    "team_df = pd.read_csv(path)\n",
    "team_df = get_stats_for_team(team_df)\n",
    "team_df"
   ]
  }
 ],
 "metadata": {
  "kernelspec": {
   "display_name": ".env",
   "language": "python",
   "name": "python3"
  },
  "language_info": {
   "codemirror_mode": {
    "name": "ipython",
    "version": 3
   },
   "file_extension": ".py",
   "mimetype": "text/x-python",
   "name": "python",
   "nbconvert_exporter": "python",
   "pygments_lexer": "ipython3",
   "version": "3.10.10"
  },
  "orig_nbformat": 4,
  "vscode": {
   "interpreter": {
    "hash": "92489e8426451bfe31496af9d902e46b3f5624f06599763fc962e93a82b244f6"
   }
  }
 },
 "nbformat": 4,
 "nbformat_minor": 2
}
