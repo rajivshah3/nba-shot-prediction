{
 "cells": [
  {
   "cell_type": "code",
   "execution_count": 1,
   "metadata": {},
   "outputs": [],
   "source": [
    "import pandas as pd\n",
    "import json\n",
    "import simdjson\n",
    "import os\n",
    "from nba_api.stats.endpoints import playbyplayv2, commonplayerinfo\n",
    "from time import sleep"
   ]
  },
  {
   "cell_type": "code",
   "execution_count": 11,
   "metadata": {},
   "outputs": [],
   "source": [
    "# 12_05_2015_NYK_at_MIL/0021500295.json\n",
    "game_path = \"./test.json\"\n",
    "f = open(game_path)\n",
    "json_data = simdjson.load(f)\n",
    "f.close()\n",
    "df = pd.read_json(simdjson.dumps(json_data[\"events\"]))"
   ]
  },
  {
   "cell_type": "code",
   "execution_count": 12,
   "metadata": {},
   "outputs": [
    {
     "data": {
      "text/plain": [
       "name            string\n",
       "teamid           Int64\n",
       "abbreviation    string\n",
       "lastname        string\n",
       "firstname       string\n",
       "playerid         Int64\n",
       "jersey          string\n",
       "position        string\n",
       "dtype: object"
      ]
     },
     "execution_count": 12,
     "metadata": {},
     "output_type": "execute_result"
    }
   ],
   "source": [
    "home_team = pd.DataFrame(df.iloc[0][\"home\"])\n",
    "home_team = pd.concat([home_team.drop(\"players\", axis=\"columns\"), home_team[\"players\"].apply(pd.Series)], axis=\"columns\")\n",
    "visitor_team = pd.DataFrame(df.iloc[0][\"visitor\"])\n",
    "visitor_team = pd.concat([visitor_team.drop(\"players\", axis=\"columns\"), visitor_team[\"players\"].apply(pd.Series)], axis=\"columns\")\n",
    "df = df.drop([\"home\", \"visitor\"], axis=\"columns\")\n",
    "visitor_team.head()"
   ]
  },
  {
   "cell_type": "code",
   "execution_count": 16,
   "metadata": {},
   "outputs": [],
   "source": [
    "# Get heights for each player in inches\n",
    "def get_height_for_player(player_row):\n",
    "    id = player_row[\"playerid\"]\n",
    "    # NBA API will block the IP if we request too quickly\n",
    "    # https://github.com/swar/nba_api/issues/176#issuecomment-771991604\n",
    "    sleep(0.6)\n",
    "    player_info = commonplayerinfo.CommonPlayerInfo(player_id=id)\n",
    "    height_str = player_info.get_normalized_dict()[\"CommonPlayerInfo\"][0][\"HEIGHT\"]\n",
    "    height_ft, height_in = height_str.split(\"-\")\n",
    "    height = int(height_ft) * 12 + int(height_in)\n",
    "    return height\n",
    "\n",
    "def get_heights_for_team(team_df: pd.DataFrame):\n",
    "    team_id = team_df.iloc[0][\"teamid\"]\n",
    "    if not os.path.exists(f\"./test-team-{team_id}.parquet\"):\n",
    "        team_df[\"height\"] = team_df.apply(get_height_for_player, axis=\"columns\")\n",
    "        return team_df\n",
    "    \n",
    "\n",
    "home_team = get_heights_for_team(home_team)\n",
    "visitor_team = get_heights_for_team(visitor_team)\n",
    "visitor_team.head()\n",
    "visitor_team.to_csv('./test-team.csv')\n",
    "\n",
    "# home_team.to_parquet(f\"./test-team-{home_team.iloc[0]['teamid']}.parquet\")\n",
    "# visitor_team.to_parquet(f\"./test-team-{visitor_team.iloc[0]['teamid']}.parquet\")"
   ]
  },
  {
   "cell_type": "code",
   "execution_count": 6,
   "metadata": {},
   "outputs": [],
   "source": [
    "df = df.explode(\"moments\", ignore_index=True)\n",
    "# No clue how NAs got here\n",
    "df = df.dropna()\n",
    "# Downsample by 5\n",
    "# Original length is 161318\n",
    "df = df.iloc[range(0, len(df.index), 5)]"
   ]
  },
  {
   "cell_type": "code",
   "execution_count": 7,
   "metadata": {},
   "outputs": [],
   "source": [
    "# Based on https://github.com/gmf05/nba/blob/master/scripts/py/sloan1.py\n",
    "# Added workarounds where data is malformed\n",
    "# Needs to be vectorized/batched for better performance\n",
    "def process_moment(moment_input):\n",
    "    event_id = moment_input[\"eventId\"]\n",
    "    moment = moment_input[\"moments\"]\n",
    "    period, moment_id, sec_remain, shotclock_remain  = moment[0:4]\n",
    "    # Rare instances where ball or player coordinates aren't there, not sure why\n",
    "    ball_present = False\n",
    "    players_present = False\n",
    "    ball_x, ball_y, ball_z = (pd.NA, pd.NA, pd.NA)\n",
    "    if moment[-1][0][0] == -1:\n",
    "        ball_present = True\n",
    "        ball_x, ball_y, ball_z = moment[-1][0][2:5]\n",
    "    player_id = [0] * 10\n",
    "    player_x = [0] * 10\n",
    "    player_y = [0] * 10\n",
    "    if len(moment[-1]) > 1:\n",
    "        players_present = True\n",
    "    if players_present:\n",
    "        for i in range(len(moment[-1]) - 1):\n",
    "            # Loop over players\n",
    "            if ball_present:\n",
    "                player_id[i] = moment[-1][i + 1][1] # +1 bc ball is row 0!\n",
    "                player_x[i], player_y[i] = moment[-1][i + 1][2:4] # +1 bc ball is row 0!\n",
    "            else:\n",
    "                player_id[i] = moment[-1][i][1]\n",
    "                player_x[i], player_y[i] = moment[-1][i][2:4]\n",
    "    \n",
    "    moment_output = {\n",
    "        \"event_id\": event_id,\n",
    "        \"period\": period,\n",
    "        \"moment_id\": moment_id,\n",
    "        \"sec_remain\": sec_remain,\n",
    "        \"shotclock_remain\": shotclock_remain,\n",
    "        \"ball_x\": ball_x,\n",
    "        \"ball_y\": ball_y,\n",
    "        \"ball_z\": ball_z,\n",
    "        \"player_id\": player_id,\n",
    "        \"player_x\": player_x,\n",
    "        \"player_y\": player_y,\n",
    "    }\n",
    "    return pd.Series(moment_output)\n",
    "# df.to_csv(\"test.csv\")\n",
    "df = df.apply(process_moment, axis=\"columns\")"
   ]
  },
  {
   "cell_type": "code",
   "execution_count": 8,
   "metadata": {},
   "outputs": [],
   "source": [
    "# df.head(500)\n",
    "df.to_csv('test.csv')"
   ]
  }
 ],
 "metadata": {
  "kernelspec": {
   "display_name": ".env",
   "language": "python",
   "name": "python3"
  },
  "language_info": {
   "codemirror_mode": {
    "name": "ipython",
    "version": 3
   },
   "file_extension": ".py",
   "mimetype": "text/x-python",
   "name": "python",
   "nbconvert_exporter": "python",
   "pygments_lexer": "ipython3",
   "version": "3.10.10"
  },
  "orig_nbformat": 4,
  "vscode": {
   "interpreter": {
    "hash": "92489e8426451bfe31496af9d902e46b3f5624f06599763fc962e93a82b244f6"
   }
  }
 },
 "nbformat": 4,
 "nbformat_minor": 2
}
